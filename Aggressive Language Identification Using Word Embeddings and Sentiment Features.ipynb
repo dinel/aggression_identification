{
 "cells": [
  {
   "cell_type": "markdown",
   "metadata": {},
   "source": [
    "# Aggressive Language Identification Using Word Embeddings and Sentiment Features"
   ]
  },
  {
   "cell_type": "markdown",
   "metadata": {},
   "source": [
    "This notebook presents the code of my participation in the <a href=\"https://sites.google.com/view/trac1/shared-task\" target=\"_blank\">First Shared Task on Aggression Identification</a>. More details about the approach can be found in:\n",
    "\n",
    "Constantin Orǎsan (2018) Aggressive Language Identification Using Word Embeddings and Sentiment Features. In *Proceedings of the First Workshop on Trolling, Aggression and Cyberbullying (TRAC-2018)*, p. 113 - 119, Santa Fe, USA, August, 25, http://aclweb.org/anthology/W18-4414\n",
    "\n",
    "**Abstract**\n",
    "\n",
    "This paper describes our participation in the First Shared Task on Aggression Identification. The\n",
    "method proposed relies on machine learning to identify social media texts which contain aggression.\n",
    "The main features employed by our method are information extracted from word embeddings\n",
    "and the output of a sentiment analyser. Several machine learning methods and different\n",
    "combinations of features were tried. The official submissions used Support Vector Machines and\n",
    "Random Forests. The official evaluation showed that for texts similar to the ones in the training\n",
    "dataset Random Forests work best, whilst for texts which are different SVMs are a better choice.\n",
    "The evaluation also showed that despite its simplicity the method performs well when compared\n",
    "with more elaborated methods."
   ]
  },
  {
   "cell_type": "markdown",
   "metadata": {},
   "source": [
    "The first step is to import all the necessary modules:"
   ]
  },
  {
   "cell_type": "code",
   "execution_count": 1,
   "metadata": {},
   "outputs": [],
   "source": [
    "%%capture --no-display\n",
    "# the previous line is to suppress warning caused by using deprecated functions in numpy\n",
    "# in this case it's safe to ignore them\n",
    "\n",
    "import csv\n",
    "import re\n",
    "import emoji\n",
    "import nltk\n",
    "import math\n",
    "import numpy as np\n",
    "from nltk.tokenize import word_tokenize\n",
    "from sklearn.svm import SVC\n",
    "from sklearn.ensemble import RandomForestClassifier\n",
    "from sklearn.metrics import confusion_matrix\n",
    "from sklearn.metrics import f1_score"
   ]
  },
  {
   "cell_type": "markdown",
   "metadata": {},
   "source": [
    "Initialise various variables"
   ]
  },
  {
   "cell_type": "code",
   "execution_count": 2,
   "metadata": {},
   "outputs": [],
   "source": [
    "# debug is used to supress various warnings and debugging messages\n",
    "debug = False"
   ]
  },
  {
   "cell_type": "code",
   "execution_count": 3,
   "metadata": {},
   "outputs": [],
   "source": [
    "# path to training and dev data. You can obtain the data from the workshop organisers. \n",
    "path_to_data = \"english/\""
   ]
  },
  {
   "cell_type": "markdown",
   "metadata": {},
   "source": [
    "The purpose of the task was to classify short texts into three categories *Overtly Aggressive* (OAG), *Covertly Aggressive* (CAG) and *Non-aggressive* (NAG). "
   ]
  },
  {
   "cell_type": "code",
   "execution_count": 4,
   "metadata": {},
   "outputs": [],
   "source": [
    "labels = ['NAG', 'CAG', 'OAG']"
   ]
  },
  {
   "cell_type": "markdown",
   "metadata": {},
   "source": [
    "## Step 1: Load the data"
   ]
  },
  {
   "cell_type": "code",
   "execution_count": 5,
   "metadata": {},
   "outputs": [],
   "source": [
    "def read_data(file_name, test_data=0):\n",
    "    '''\n",
    "    Reads the data from a CVS file. Each instance is stored in a tuple with the \n",
    "    structure (ID, text, label)\n",
    "    Returns a list which contains all the instances from the file\n",
    "    '''\n",
    "    data = []\n",
    "    with open(file_name, encoding = 'utf8') as csvfile:\n",
    "        reader = csv.reader(csvfile)\n",
    "        for row in reader:\n",
    "            if test_data:\n",
    "                id_ex, text = tuple(row)\n",
    "                data.append([id_ex, text, \"UNK\"])\n",
    "            else:\n",
    "                id_ex, text, label = tuple(row)\n",
    "                data.append([id_ex, text, label])\n",
    "            \n",
    "    return data"
   ]
  },
  {
   "cell_type": "code",
   "execution_count": 6,
   "metadata": {},
   "outputs": [
    {
     "name": "stdout",
     "output_type": "stream",
     "text": [
      "Reading the data ...done!\n"
     ]
    }
   ],
   "source": [
    "print(\"Reading the data ...\", end=\"\")\n",
    "training = read_data(path_to_data + 'agr_en_train.csv')\n",
    "dev = read_data(path_to_data + 'agr_en_dev.csv')\n",
    "print(\"done!\")"
   ]
  },
  {
   "cell_type": "markdown",
   "metadata": {},
   "source": [
    "The data is now ready to be used. "
   ]
  },
  {
   "cell_type": "code",
   "execution_count": 7,
   "metadata": {},
   "outputs": [
    {
     "name": "stdout",
     "output_type": "stream",
     "text": [
      "['facebook_corpus_msr_466073', \"Most of Private Banks ATM's Like HDFC, ICICI etc are out of cash. Only Public sector bank's ATM working\", 'NAG']\n"
     ]
    }
   ],
   "source": [
    "# the second instance from the training data\n",
    "print(training[1])"
   ]
  },
  {
   "cell_type": "markdown",
   "metadata": {},
   "source": [
    "We can have a look at how the instances are distributed between different classes."
   ]
  },
  {
   "cell_type": "code",
   "execution_count": 8,
   "metadata": {},
   "outputs": [],
   "source": [
    "%%capture --no-display\n",
    "%matplotlib inline\n",
    "\n",
    "import matplotlib.pyplot as plt\n",
    "from collections import Counter\n",
    "from pandas import DataFrame \n",
    "\n",
    "def plot_data(df):\n",
    "    ax = df.plot(kind='bar')\n",
    "    total = 0\n",
    "    for p in ax.patches:\n",
    "        total += p.get_height()\n",
    "    for p in ax.patches:\n",
    "        ax.annotate(np.round(p.get_height(),decimals=2), (p.get_x()+p.get_width()/2, p.get_height()/2), \n",
    "                    ha='center', va='center', xytext=(0, 10), textcoords='offset points', \n",
    "                    bbox=dict(facecolor='yellow', alpha=0.5))\n",
    "        \n",
    "        ax.annotate(str(np.round(p.get_height()/total * 100,decimals=2)) + \"%\", (p.get_x()+p.get_width()/2, p.get_height()/2), \n",
    "                    ha='center', va='center', xytext=(0, -20), textcoords='offset points', \n",
    "                    bbox=dict(facecolor='gray', alpha=0.5))"
   ]
  },
  {
   "cell_type": "code",
   "execution_count": 9,
   "metadata": {},
   "outputs": [
    {
     "data": {
      "image/png": "[encoded data removed]",
      "text/plain": [
       "<Figure size 432x288 with 1 Axes>"
      ]
     },
     "metadata": {},
     "output_type": "display_data"
    }
   ],
   "source": [
    "# plot the training data\n",
    "df = DataFrame.from_dict(Counter([instance[2] for instance in training]), orient='index')\n",
    "df.rename({0: \"Training\"}, axis='columns', inplace=True)\n",
    "plot_data(df)"
   ]
  },
  {
   "cell_type": "code",
   "execution_count": 10,
   "metadata": {},
   "outputs": [
    {
     "data": {
      "image/png": "[encoded data removed]",
      "text/plain": [
       "<Figure size 432x288 with 1 Axes>"
      ]
     },
     "metadata": {},
     "output_type": "display_data"
    }
   ],
   "source": [
    "# plot the dev data\n",
    "df = DataFrame.from_dict(Counter([instance[2] for instance in dev]), orient='index')\n",
    "df.rename({0: \"Dev\"}, axis='columns', inplace=True)\n",
    "plot_data(df)"
   ]
  },
  {
   "cell_type": "markdown",
   "metadata": {},
   "source": [
    "## Step 2: Calculate the features"
   ]
  },
  {
   "cell_type": "markdown",
   "metadata": {},
   "source": [
    "### 2.1 Features based on word embeddings"
   ]
  },
  {
   "cell_type": "markdown",
   "metadata": {},
   "source": [
    "The main purpose of this method was to explore to what extent word embeddings can be used as features for traditional machine learning methods. For the experiments in the paper, I used the pretrained GloVe vectors from https://nlp.stanford.edu/projects/glove/\n",
    "\n",
    "The experiments were run using <a href=\"http://nlp.stanford.edu/data/glove.840B.300d.zip\">glove.840B.300d.zip</a> (vectors generated using 840B tokens from Common Crawl, 2.2M vocabulary size, cased, 300d vectors)"
   ]
  },
  {
   "cell_type": "code",
   "execution_count": 11,
   "metadata": {},
   "outputs": [],
   "source": [
    "# path to the uncompressed GloVe vector\n",
    "path_to_glove=\"/home/dinel/Projects/2018-aggression/glove/glove.840B.300d.txt\""
   ]
  },
  {
   "cell_type": "code",
   "execution_count": 12,
   "metadata": {},
   "outputs": [],
   "source": [
    "def loadGloveModel(gloveFile):\n",
    "    '''\n",
    "    Loads the embeddings into a dictionary. This will consume lots of memory.\n",
    "    Returns the dictionary where the keys are the words and the values the embeddings\n",
    "    '''\n",
    "    \n",
    "    print(\"Loading Glove Model\")\n",
    "    f = open(gloveFile,'r')\n",
    "    model = {}\n",
    "    for line in f:\n",
    "        splitLine = line.split()\n",
    "        word = splitLine[0]\n",
    "        try:\n",
    "            embedding = np.array([float(val) for val in splitLine[1:]])            \n",
    "            model[word] = embedding\n",
    "        except:\n",
    "            if debug: print(\"Problem:\", line)\n",
    "    print(\"Done.\",len(model),\" words loaded!\")\n",
    "    return model"
   ]
  },
  {
   "cell_type": "code",
   "execution_count": 13,
   "metadata": {},
   "outputs": [
    {
     "name": "stdout",
     "output_type": "stream",
     "text": [
      "Loading Glove Model\n",
      "Done. 2195884  words loaded!\n"
     ]
    }
   ],
   "source": [
    "# load the embeddings\n",
    "embeddings = loadGloveModel(path_to_glove)"
   ]
  },
  {
   "cell_type": "code",
   "execution_count": 14,
   "metadata": {},
   "outputs": [
    {
     "name": "stdout",
     "output_type": "stream",
     "text": [
      "[-6.1052e-01  1.1656e-01 -5.0648e-01 -3.2216e-01 -9.9742e-02  1.0182e-01\n",
      "  3.1042e-01 -1.8155e-01  3.1774e-01  2.1537e+00 -8.1129e-02 -3.8734e-01\n",
      "  6.8008e-02 -5.8029e-03 -5.3814e-01 -9.8787e-02 -8.4160e-02  3.1755e-02\n",
      " -2.9811e-01  5.0496e-01  4.1719e-01  1.1462e-01  2.5330e-01 -1.6668e-01\n",
      "  2.6645e-02  4.5709e-02 -5.9685e-01 -3.9645e-01  4.3089e-01  1.3014e-01\n",
      " -4.0591e-02  6.6024e-01 -5.3007e-01 -8.1629e-02  3.3484e-01  1.6258e-01\n",
      "  3.9029e-02  7.2786e-02 -1.8635e-01  3.8104e-01 -5.0557e-01 -3.0910e-02\n",
      " -3.2578e-01  3.8818e-01  1.4605e-01  3.8982e-02 -1.4992e-01  6.0316e-01\n",
      " -3.0801e-02  1.3456e-01 -6.2982e-01  5.8746e-02  1.5878e-02 -7.8831e-02\n",
      "  1.4754e-01  5.2191e-02 -4.3654e-01 -1.6707e-01 -1.5184e-02 -1.6073e-01\n",
      " -2.1243e-02  8.3719e-02 -6.5062e-01 -7.9566e-02 -4.5479e-02 -1.0070e-01\n",
      " -1.4044e-01 -4.1403e-02  1.2033e-01  2.6015e-03  1.0318e-02  1.2444e-01\n",
      "  3.0785e-01 -2.4270e-01  4.9056e-02  2.1891e-01  1.5346e-01  1.6682e-01\n",
      "  5.0732e-01  5.9128e-01 -3.0452e-01 -5.8077e-02  1.4405e-01 -4.4923e-01\n",
      "  2.3952e-01 -1.8347e-01  2.6224e-01 -7.6430e-01  1.1990e-01 -4.5683e-01\n",
      " -1.4176e-01 -1.6581e-01  1.2650e-01  2.3494e-01  2.1847e-01  1.2909e-01\n",
      "  4.9598e-02  4.8204e-01 -1.7446e-02 -3.5697e-01  3.1545e-01 -2.6209e-01\n",
      " -3.4744e-02 -4.2803e-01  5.4802e-01 -7.5777e-01 -1.6709e-01 -2.3587e-02\n",
      " -2.7345e-01  9.4488e-02 -9.8469e-02 -2.5598e-01  2.9519e-02 -4.2601e-01\n",
      " -2.5830e-01 -1.1096e-02  1.1266e-01 -5.7712e-01 -1.4331e-01 -4.8758e-02\n",
      "  8.4046e-02 -1.4820e-01  6.3360e-02 -5.2884e-01  5.1334e-01  5.5074e-02\n",
      "  3.3447e-01 -4.5821e-02 -8.4835e-02  5.3418e-02 -6.0270e-01  1.0075e-01\n",
      "  3.4882e-02  1.3661e-01 -5.7156e-02 -3.2932e-01 -5.0855e-01 -1.0988e-01\n",
      "  8.5876e-02 -1.2094e-01 -2.9525e+00 -9.1559e-02  4.1377e-01  2.9983e-02\n",
      " -4.5670e-01  3.1407e-01 -2.9968e-01  4.8521e-02 -5.2216e-01 -6.1831e-01\n",
      "  3.2831e-01  2.2728e-01  2.7956e-01  1.3687e-01 -3.8543e-02  2.9034e-01\n",
      " -1.5775e-01 -6.1231e-01 -4.9361e-02  1.4326e-01 -2.3045e-01  5.2664e-02\n",
      "  9.3194e-02  2.7935e-01 -1.8719e-01  4.2922e-01 -1.2092e-01 -3.3848e-02\n",
      " -6.7490e-01 -4.7605e-01 -3.0468e-01 -2.6370e-01  2.5106e-03 -4.6804e-01\n",
      "  6.8331e-01  1.6012e-01 -5.1522e-01  1.8021e-01  2.5192e-01 -3.2158e-01\n",
      " -2.5619e-02 -3.0824e-01 -6.2287e-01  8.0491e-02 -2.8676e-02  2.4823e-01\n",
      "  6.2337e-02 -4.3325e-01  5.4157e-01  1.4867e-01  2.3373e-01 -4.6265e-01\n",
      " -2.9033e-01 -2.1299e-01  3.3593e-01  6.8914e-02  2.4089e-01 -3.2855e-01\n",
      " -1.5312e-01  3.4413e-01  3.3486e-02 -5.7180e-02  9.8070e-02 -4.4647e-02\n",
      "  3.5703e-01 -3.5915e-01  7.0520e-02  7.5669e-02  1.6122e-01  1.5627e-01\n",
      " -8.8761e-02  5.2585e-01  2.7204e-01  3.4040e-01  7.6718e-02  5.6750e-03\n",
      " -2.9162e-01 -1.6033e-01 -3.9822e-01 -3.8824e-02  8.5246e-03  4.1401e-02\n",
      " -2.2201e-01 -2.9588e-01 -7.4356e-02  6.3065e-02  5.1414e-02 -1.1666e-01\n",
      " -2.0297e-01 -3.3333e-01 -5.7485e-01  1.0103e-01 -1.3429e-01 -5.7319e-02\n",
      " -7.3142e-02 -1.7734e-01  6.7575e-01 -7.7484e-02  2.9055e-01  3.8863e-01\n",
      "  5.1169e-02  3.3529e-01  1.1840e-01 -7.4655e-03 -2.2907e-01  2.0701e-01\n",
      " -2.4925e-01  5.5953e-02 -1.5499e-01  5.6069e-01 -6.4385e-02 -3.0198e-02\n",
      " -7.5703e-02 -1.9910e-01 -2.2604e-01 -3.7639e-02 -2.0899e-01 -8.6741e-02\n",
      " -2.2423e-01  1.9680e-01  5.7717e-02  3.1425e-01 -1.1041e-01  3.5558e-01\n",
      "  1.7370e-01  3.0618e-01 -6.7071e-02  1.8406e-01  6.8487e-01  4.1663e-01\n",
      "  3.0946e-02 -5.0516e-01 -2.8229e-01 -2.8282e-01  2.3254e-01 -2.1508e-01\n",
      " -8.4610e-02 -3.9999e-02 -3.1937e-01  6.1145e-02  1.9686e-01 -1.1733e-01\n",
      " -4.5938e-02 -1.4098e-01 -1.0227e-01  3.4548e-01  5.5819e-01 -3.7241e-01\n",
      " -9.7569e-02 -3.4458e-01  1.7395e-01 -1.4566e-02 -2.8684e-01 -4.1603e-01\n",
      " -1.0828e-02  4.0514e-01 -3.4146e-01  1.0321e-01 -8.8201e-02  6.7543e-01]\n"
     ]
    }
   ],
   "source": [
    "# we can check the vector corresponding to a word\n",
    "print(embeddings[\"hate\"])"
   ]
  },
  {
   "cell_type": "markdown",
   "metadata": {},
   "source": [
    "The features corresponding to a text are calculated by averaging the vectors corresponding to the tokens contained it the text. The function below can be used to find out which tokens are not present in the embeddings. The input of the function is a list which contains all the instances. The text is in the second position of an instance. The tokenizer from NLTK is used. "
   ]
  },
  {
   "cell_type": "code",
   "execution_count": 15,
   "metadata": {},
   "outputs": [],
   "source": [
    "def calculate_vector_repr(data):\n",
    "    '''\n",
    "    Calculates the vector representation of the text. The input of the function \n",
    "    is a list which contains the input (training or testing). The function modifies\n",
    "    this data by adding the representation at the end of each instance.\n",
    "    '''\n",
    "    \n",
    "    if debug: not_found = open(\"not-found.txt\", \"w\")\n",
    "    for instance in data:\n",
    "        text = instance[1]\n",
    "\n",
    "        sentVector = np.zeros(300)\n",
    "        counter = 0\n",
    "\n",
    "        for word in word_tokenize(text):        \n",
    "            try:\n",
    "                sentVector += embeddings[word.lower()]\n",
    "                counter += 1\n",
    "            except:\n",
    "                if debug: not_found.write(word + \"\\n\")\n",
    "                    \n",
    "        if counter: \n",
    "            sentVector = sentVector / counter\n",
    "        instance.append(sentVector)\n",
    "        \n",
    "    if debug: not_found.close()"
   ]
  },
  {
   "cell_type": "markdown",
   "metadata": {},
   "source": [
    "If ``debug=True`` calling ``calculate_vector_repr`` creates/appends to a file called ``not-found.txt`` all the words that are not present in the embeddings. This is very useful for measuring the coverage of the word embeddings. In the case of this task, most of the non found words are either poorly tokenised words or words they are not English."
   ]
  },
  {
   "cell_type": "code",
   "execution_count": 16,
   "metadata": {},
   "outputs": [
    {
     "data": {
      "text/plain": [
       "[['dummy',\n",
       "  'this is a test',\n",
       "  array([-1.69022500e-02,  2.87252250e-01,  1.86550750e-02,  1.34868000e-01,\n",
       "          4.24300000e-02, -2.67570750e-01,  2.58480000e-02, -2.83737750e-01,\n",
       "          5.71710000e-02,  2.15382500e+00, -1.57307175e-01, -5.59105000e-02,\n",
       "         -2.40000000e-03,  4.53894500e-02, -9.60605000e-02, -1.85047625e-01,\n",
       "          1.54570000e-02,  1.65845000e+00, -1.73122500e-01, -3.72495000e-02,\n",
       "         -2.85275000e-02, -2.71057750e-01, -4.75250000e-02,  1.30351075e-01,\n",
       "          6.37230000e-02,  2.03934500e-01,  3.63950000e-03, -1.35885500e-01,\n",
       "          4.68250000e-03, -1.42760000e-02, -2.46225000e-04,  8.99967500e-02,\n",
       "          3.52918750e-01, -1.09063000e-01,  4.67625000e-02,  4.68908400e-02,\n",
       "          6.66356250e-02, -6.19975000e-02, -1.38557592e-01, -3.94212250e-01,\n",
       "          2.24767500e-01,  1.93722500e-01,  1.34370750e-01, -9.73465000e-02,\n",
       "          5.74125000e-02,  4.60950000e-03, -2.31309000e-01,  4.35100000e-02,\n",
       "         -1.65817500e-01,  8.05360750e-02, -1.69070000e-01,  2.49950000e-01,\n",
       "         -1.23277500e-02, -7.32342500e-02,  4.79375000e-02,  1.22529500e-01,\n",
       "          8.54340750e-02,  7.20050000e-03,  1.58414650e-01, -2.26668750e-01,\n",
       "         -4.65070500e-02,  1.57557250e-01, -8.18155000e-02,  3.33497000e-01,\n",
       "          3.04625250e-01, -1.29667750e-01, -6.98820000e-02, -1.36443000e-01,\n",
       "         -5.63567500e-02,  2.13260000e-01,  4.11295000e-02,  1.87477500e-02,\n",
       "          2.10122500e-01,  2.84410000e-02, -2.26245000e-02, -9.80845000e-02,\n",
       "          3.33040000e-02,  3.45000000e-05, -2.37012500e-01,  4.54745000e-01,\n",
       "         -3.48975000e-02, -1.04009750e-01,  6.17780000e-02,  2.36718587e-01,\n",
       "          7.68100000e-02, -2.09564500e-01, -2.31786000e-01, -1.67525500e-01,\n",
       "          1.68050000e-01, -1.97675000e-02, -8.27067500e-02,  4.58715000e-01,\n",
       "         -6.05664000e-02, -3.15750000e-02,  6.39547500e-02,  9.35362500e-02,\n",
       "         -5.18382500e-02, -3.98707500e-02,  2.06635250e-01,  2.85175000e-01,\n",
       "          1.55960000e-01,  4.57625000e-02, -1.07550000e-01, -9.50000000e-05,\n",
       "          1.12489250e-01, -8.25805000e-01,  1.29028750e-01,  1.04883500e-01,\n",
       "         -1.27268000e-01, -7.81945000e-02,  7.36750000e-03, -7.81790000e-02,\n",
       "         -2.02637500e-02, -1.34450000e-03, -8.54400000e-03,  1.56997500e-01,\n",
       "         -1.45537500e-01,  3.73980000e-01,  1.38417500e-01, -4.05875000e-02,\n",
       "         -7.90592500e-02, -1.69187250e-01,  3.08477500e-02, -1.67063000e-01,\n",
       "         -7.95925000e-03,  1.61058750e-01, -2.04527500e-01, -2.07422500e-01,\n",
       "         -1.27421250e-02, -7.25512500e-02, -9.06920000e-02, -2.69842500e-02,\n",
       "         -2.09380250e-01,  2.13083500e-01,  1.25434275e-01, -1.76262145e-01,\n",
       "          7.63952500e-02,  3.06730000e-02,  8.89172500e-02, -1.02119500e-01,\n",
       "         -1.19806000e+00,  5.81725000e-02,  1.54513500e-01,  7.77572500e-02,\n",
       "         -1.69317500e-02, -3.48612500e-01, -9.28835000e-02,  3.63925000e-02,\n",
       "          3.26028000e-01, -7.05635000e-02, -6.92765000e-02,  1.33272500e-01,\n",
       "          8.09050000e-02,  1.75165000e-02,  1.17953450e-01,  5.93287500e-02,\n",
       "         -3.31965000e-01,  1.27641750e-01, -8.66400000e-02, -2.57092500e-01,\n",
       "          3.08382500e-02,  2.95660000e-02,  6.91310000e-02, -3.31830000e-02,\n",
       "         -1.73564100e-01, -2.63792500e-01, -8.19967500e-02,  1.17067000e-02,\n",
       "          2.03666773e-01, -6.23300000e-02,  3.38693750e-02, -1.43808000e-01,\n",
       "          1.68575000e-01, -1.03225000e-01, -4.41947500e-01,  4.37812500e-02,\n",
       "         -2.58666250e-02, -9.01300000e-02, -3.02050000e-02,  2.95564750e-01,\n",
       "         -6.80797500e-02, -1.03582500e-01, -1.03924750e-01, -1.36811000e-01,\n",
       "          2.03645000e-02, -1.94859405e-01, -1.80158000e-01,  2.78492500e-01,\n",
       "         -2.19137625e-01, -3.88630000e-02, -2.44470000e-01, -1.10500000e-04,\n",
       "         -5.46747500e-01,  1.68005000e-01,  2.68930000e-01,  2.48715000e-01,\n",
       "         -1.72146250e-01, -9.41317500e-02,  2.36864000e-01, -5.34050000e-02,\n",
       "         -8.16077500e-02,  1.42102250e-02, -3.43040000e-01,  1.20894750e-01,\n",
       "          1.29999250e-01, -5.10635000e-02, -4.50082500e-02, -4.19900250e-02,\n",
       "          1.44472500e-01,  1.34179750e-01, -2.48782500e-01, -8.66902500e-02,\n",
       "          5.88647500e-02, -2.94300000e-01,  5.68540000e-02,  3.07725000e-01,\n",
       "         -4.53325000e-02,  3.26032500e-01, -8.12095000e-02,  1.93018000e-01,\n",
       "          8.21810000e-02, -7.04255000e-02, -6.08912500e-02, -1.65200000e-02,\n",
       "          4.58710000e-02, -1.36672500e-01, -8.41520000e-02,  1.71415000e-01,\n",
       "         -3.06767500e-02, -1.20317250e-01, -5.10400000e-02,  3.44682500e-01,\n",
       "          3.89110000e-02,  1.09950000e-03, -1.77381538e-01, -2.05941125e-01,\n",
       "          3.30971250e-02, -2.76257500e-02, -1.59756000e-01,  2.36192500e-01,\n",
       "          1.62469250e-01, -9.33980000e-02,  1.74687750e-01,  4.63500000e-02,\n",
       "          1.10741000e-01, -1.11376750e-01,  1.30968000e-01, -2.65440000e-01,\n",
       "         -1.22173250e-01, -3.38005000e-02, -6.52402500e-02, -1.30703250e-01,\n",
       "          3.08882500e-02, -5.88427500e-02,  4.71567500e-02,  1.22072250e-01,\n",
       "          3.13256000e-01, -1.90145000e-01,  6.34067250e-02, -5.39375000e-03,\n",
       "          1.88715250e-01,  2.44780000e-01,  1.06738275e-01, -1.66912250e-01,\n",
       "          3.55732500e-02, -1.25672500e-02,  9.57420000e-02,  2.99566400e-01,\n",
       "          6.62767500e-01,  8.87952500e-03,  3.39099250e-01,  2.39295000e-02,\n",
       "         -1.02379000e-01, -1.54405000e-01, -7.59370000e-02, -3.98902500e-02,\n",
       "         -4.68650000e-02, -3.52055000e-02,  1.60293175e-01,  2.04122750e-01,\n",
       "          2.25618750e-01,  2.71627500e-02, -5.58942250e-02, -1.96019250e-01,\n",
       "         -1.39595850e-01, -2.18355000e-01,  7.11065000e-02, -1.21249750e-01,\n",
       "          2.16370000e-01, -2.25518250e-01, -8.21050000e-03,  1.00616350e-01,\n",
       "          2.49310000e-02, -2.06725250e-01,  1.61813250e-01, -7.74647500e-02,\n",
       "         -5.41150000e-03, -8.29525000e-02, -3.95275000e-02,  1.47072925e-01])]]"
      ]
     },
     "execution_count": 16,
     "metadata": {},
     "output_type": "execute_result"
    }
   ],
   "source": [
    "data = [[\"dummy\", \"this is a test\"]]\n",
    "calculate_vector_repr(data)\n",
    "data"
   ]
  },
  {
   "cell_type": "markdown",
   "metadata": {},
   "source": [
    "## 2.2 Extract sentiment features"
   ]
  },
  {
   "cell_type": "markdown",
   "metadata": {},
   "source": [
    "The sentiment features are determined using <a href=\"http://sentistrength.wlv.ac.uk/\" target=\"_blank\">SentiStrength</a> which is able to assign each text a positive and a negative score. In order to facilitate processing, the input files were split into individual files, each containing only one text. The name of each file matched the ID of the text. The following function was used:\n",
    "\n",
    "```python\n",
    "def splitData(file_name, train_data = True):\n",
    "    with open(file_name, encoding = 'utf8') as csvfile:\n",
    "        reader = csv.reader(csvfile)\n",
    "        for row in reader:\n",
    "            if train_data:\n",
    "                id_ex, text, label = tuple(row)\n",
    "            else:\n",
    "                id_ex, text = tuple(row)\n",
    "            \n",
    "            f = open(\"split-test/\" + id_ex, \"w\")\n",
    "            f.write(text)\n",
    "            f.close()\n",
    "            \n",
    "```"
   ]
  },
  {
   "cell_type": "markdown",
   "metadata": {},
   "source": [
    "A shell script was run to generate the files containing the scores\n",
    "\n",
    "```sh\n",
    "for f in `find $1 -type f`\n",
    "do\n",
    "    cat $f | java -jar SentiStrengthCom.jar sentidata ./SentStrength_Data/ stdin > $f.senti\n",
    "done\n",
    "\n",
    "```"
   ]
  },
  {
   "cell_type": "markdown",
   "metadata": {},
   "source": [
    "After this each file contained two numbers separated by a tab which represented the positive and negative scores."
   ]
  },
  {
   "cell_type": "code",
   "execution_count": 17,
   "metadata": {},
   "outputs": [],
   "source": [
    "path_to_sentiment_feats = \"senti_feats/\""
   ]
  },
  {
   "cell_type": "code",
   "execution_count": 18,
   "metadata": {},
   "outputs": [],
   "source": [
    "def getSentiFeatures(instance, path):\n",
    "    '''\n",
    "    Read the sentiment features corresponding to an instance. \n",
    "    Returns a list which contains two elements [positive score, negative score]\n",
    "    '''\n",
    "    f = open(path + instance[0] + \".senti\")\n",
    "    line = f.readline()\n",
    "    f.close()\n",
    "    return [int(x) for x in line.strip().split()]"
   ]
  },
  {
   "cell_type": "markdown",
   "metadata": {},
   "source": [
    "### 2.3 Calculate the features based on emojis\n",
    "\n",
    "The assumption is that some emoticons are more likely to indicate a type of aggression or the lack of aggression than others. The emoticons are converted to their corresponding strings description using <a href=\"https://pypi.org/project/emoji/\" target=\"_blank\">emoji</a> library."
   ]
  },
  {
   "cell_type": "code",
   "execution_count": 19,
   "metadata": {},
   "outputs": [],
   "source": [
    "def getEmojis(text):\n",
    "    \"\"\"\n",
    "    Identifies all the emoji in the text using emoji library\n",
    "    \"\"\"\n",
    "    return re.findall(\"(:[0-9a-zA-Z_]+:)\", emoji.demojize(text))"
   ]
  },
  {
   "cell_type": "markdown",
   "metadata": {},
   "source": [
    "The score of each emoji is calculating using TF*IDF with respect to each class. The implementation used in the official submission considered there are 4 classes instead of 3. This was done in order to avoid having a large number of emojis with score 0, which in turn proved to have a negative influence on the evaluation on the dev data. "
   ]
  },
  {
   "cell_type": "code",
   "execution_count": 20,
   "metadata": {},
   "outputs": [],
   "source": [
    "def getEmojiScores(data):\n",
    "    emos_dist = {'NAG':[], 'CAG':[], 'OAG':[]}\n",
    "    emo_tfidf = {'NAG':[], 'CAG':[], 'OAG':[]}\n",
    "    \n",
    "    for instance in data:\n",
    "        emos = getEmojis(instance[1])\n",
    "        for emo in emos:\n",
    "            emos_dist[instance[2]].append(emo)        \n",
    "    \n",
    "    for key,value in emos_dist.items():\n",
    "        N = len(value)\n",
    "        for emo,f in nltk.FreqDist(value).most_common(50):\n",
    "            tf = f/N\n",
    "            idf = (emo in emos_dist['NAG']) + (emo in emos_dist['CAG']) + (emo in emos_dist['OAG'])\n",
    "            emo_tfidf[key].append((tf * math.log(4/idf), emo))\n",
    "        \n",
    "    return {label : {v:k for k, v in emo_tfidf[label]} for label in labels}"
   ]
  },
  {
   "cell_type": "markdown",
   "metadata": {},
   "source": [
    "We can see which emojis are ranked in top 10 for each class."
   ]
  },
  {
   "cell_type": "code",
   "execution_count": 21,
   "metadata": {},
   "outputs": [
    {
     "name": "stdout",
     "output_type": "stream",
     "text": [
      "\n",
      "Label: NAG\n",
      "♥ :heart_suit: 0.10836526343965343\n",
      "❌ :cross_mark: 0.07126724532517748\n",
      "💢 :anger_symbol: 0.048813181729573614\n",
      "😂 :face_with_tears_of_joy: 0.0362641485696259\n",
      "😯 :hushed_face: 0.018549009057237973\n",
      "🌟 :glowing_star: 0.017572745422646502\n",
      "😽 :kissing_cat_face: 0.015620218153463556\n",
      "🏨 :hotel: 0.013667690884280612\n",
      "🏯 :Japanese_castle: 0.013667690884280612\n",
      "⭐ :white_medium_star: 0.012691427249689139\n",
      "\n",
      "Label: CAG\n",
      "😂 :face_with_tears_of_joy: 0.14426913454799128\n",
      "😀 :grinning_face: 0.017123932884034573\n",
      "😈 :smiling_face_with_horns: 0.009283221168213552\n",
      "👏 :clapping_hands: 0.009283221168213552\n",
      "😝 :squinting_face_with_tongue: 0.008251752149523157\n",
      "🌹 :rose: 0.008251752149523157\n",
      "👌 :OK_hand: 0.008251752149523157\n",
      "😜 :winking_face_with_tongue: 0.007705769797815558\n",
      "📢 :loudspeaker: 0.006188814112142368\n",
      "🇺🇸 :United_States: 0.006188814112142368\n",
      "\n",
      "Label: OAG\n",
      "😂 :face_with_tears_of_joy: 0.108787338322102\n",
      "🐣 :hatching_chick: 0.062130839714056724\n",
      "❌ :cross_mark: 0.05436448474979963\n",
      "😡 :pouting_face: 0.026592460478736046\n",
      "🃏 :joker: 0.015532709928514181\n",
      "🌝 :full_moon_face: 0.013591121187449907\n",
      "💧 :droplet: 0.011649532446385634\n",
      "😉 :winking_face: 0.008058321357192741\n",
      "😏 :smirking_face: 0.008058321357192741\n",
      "😑 :expressionless_face: 0.008058321357192741\n"
     ]
    }
   ],
   "source": [
    "from operator import itemgetter\n",
    "\n",
    "emoji_scores = getEmojiScores(training)\n",
    "for label in labels:\n",
    "    print(\"\\nLabel:\", label)\n",
    "    for em in sorted(emoji_scores[label].items(), key=itemgetter(1), reverse=True)[:10]:\n",
    "        print(emoji.emojize(em[0]), em[0], em[1])"
   ]
  },
  {
   "cell_type": "markdown",
   "metadata": {},
   "source": [
    "For each new text we calculate three features, each corresponding to one of the classes to be predicted.\n",
    "The values of the features are the sum of the emoticons scores appearing in the text for the corresponding\n",
    "class. The values of these three features are normalised by the number of emoticons in the text."
   ]
  },
  {
   "cell_type": "code",
   "execution_count": 22,
   "metadata": {},
   "outputs": [],
   "source": [
    "def getEmoFeatures(text, scores):\n",
    "    '''\n",
    "    Returns the features corresponding to the emoji scores\n",
    "    '''\n",
    "    emos_features = {'NAG':0, 'CAG':0, 'OAG':0}\n",
    "    emos = getEmojis(text)\n",
    "    for emo in emos:\n",
    "        for label in labels:\n",
    "            emos_features[label] += scores[label].get(emo, 0)\n",
    "            \n",
    "    for label in labels:\n",
    "        if len(emos): emos_features[label]/= len(emos)\n",
    "        \n",
    "    return emos_features"
   ]
  },
  {
   "cell_type": "markdown",
   "metadata": {},
   "source": [
    "The examples below show the features on a few examples."
   ]
  },
  {
   "cell_type": "code",
   "execution_count": 23,
   "metadata": {},
   "outputs": [
    {
     "name": "stdout",
     "output_type": "stream",
     "text": [
      "['facebook_corpus_msr_429182', 'So humble you are Mukesh Ambani.. your  pieces about Entrepreneurs  should inspire a generation.. 🙏👍👌', 'NAG']\n"
     ]
    }
   ],
   "source": [
    "print(training[289])"
   ]
  },
  {
   "cell_type": "code",
   "execution_count": 24,
   "metadata": {},
   "outputs": [
    {
     "name": "stdout",
     "output_type": "stream",
     "text": [
      "{'NAG': 0.007278423690762763, 'CAG': 0.0051764745417459505, 'OAG': 0.0018802749833449726}\n"
     ]
    }
   ],
   "source": [
    "print(getEmoFeatures(training[289][1], emoji_scores))"
   ]
  },
  {
   "cell_type": "code",
   "execution_count": 25,
   "metadata": {},
   "outputs": [
    {
     "name": "stdout",
     "output_type": "stream",
     "text": [
      "['facebook_corpus_msr_1689985', 'Stupid survey 👎👎👎', 'OAG']\n"
     ]
    }
   ],
   "source": [
    "print(training[222])"
   ]
  },
  {
   "cell_type": "code",
   "execution_count": 26,
   "metadata": {},
   "outputs": [
    {
     "name": "stdout",
     "output_type": "stream",
     "text": [
      "{'NAG': 0.0, 'CAG': 0.0, 'OAG': 0.005640824950034919}\n"
     ]
    }
   ],
   "source": [
    "print(getEmoFeatures(training[222][1], emoji_scores))"
   ]
  },
  {
   "cell_type": "markdown",
   "metadata": {},
   "source": [
    "## Train the algorithms\n",
    "\n",
    "As stated above, the purpose of this method was to investigate whether we can use word embeddings (together with some other features) as features for traditional machine learning algorithms. The data for the ML algorithms is prepared by the ``extract_XY`` function. The implementation assumes that the ``emoji_scores`` and ``path_to_sentiment_feats`` variables are correctly initialised in the global scope. "
   ]
  },
  {
   "cell_type": "code",
   "execution_count": 27,
   "metadata": {},
   "outputs": [],
   "source": [
    "def extract_XY(data, with_sentiment = 0, with_emojis = 0):\n",
    "    '''\n",
    "    Function which prepares the vectors for the machine learning algorithms\n",
    "    The parameters with_sentiment and with_emojis control whether those\n",
    "    features will be included\n",
    "    Returns X and Y\n",
    "    '''\n",
    "    X = []\n",
    "    Y = []\n",
    "    for instance in data:\n",
    "        features = list(instance[3])\n",
    "        if with_emojis:\n",
    "            features.extend(list(getEmoFeatures(instance[1], emoji_scores).values()))\n",
    "        if with_sentiment:\n",
    "            features.extend(getSentiFeatures(instance, path_to_sentiment_feats))\n",
    "            \n",
    "        X.append(features)\n",
    "        Y.append(instance[2])\n",
    "        \n",
    "    return X, Y"
   ]
  },
  {
   "cell_type": "markdown",
   "metadata": {},
   "source": [
    "The following two functions return the model produced by the machine learning algorithms from the training data provided as parameters. The two ML algorithms tried are <a href=\"http://scikit-learn.org/stable/modules/generated/sklearn.svm.SVC.html\" target=\"_blank\">Support Vector Machine</a> and <a href=\"http://scikit-learn.org/stable/modules/generated/sklearn.ensemble.RandomForestClassifier.html\" target=\"_blank\">Random Forest</a>. Each function takes parameters which can tune the performance of the learning algorithm. The values used in the experiments below are the best values determined through a grid search. "
   ]
  },
  {
   "cell_type": "code",
   "execution_count": 28,
   "metadata": {},
   "outputs": [],
   "source": [
    "def trainSVM(X_train, y_train, c, gamma):\n",
    "    print(\"Learning ...\", end=\"\")\n",
    "    model = SVC(random_state=57, kernel='rbf', C=c, gamma=gamma)\n",
    "    model.fit(X_train, y_train)\n",
    "    print(\"done!\")\n",
    "    \n",
    "    return model"
   ]
  },
  {
   "cell_type": "code",
   "execution_count": 29,
   "metadata": {},
   "outputs": [],
   "source": [
    "def trainRandomForest(X_train, y_train, n_estimators):\n",
    "    print(\"Learning ...\", end=\"\")\n",
    "    model = RandomForestClassifier(n_estimators=n_estimators, max_depth=10) \n",
    "    model.fit(X_train, y_train)\n",
    "    print(\"done!\")\n",
    "    \n",
    "    return model"
   ]
  },
  {
   "cell_type": "markdown",
   "metadata": {},
   "source": [
    "Before we can start experimenting with the ML algorithms we need to calculate the vector representation for the texts. This will modify the ``training`` and ``dev`` variables. The main reason for implementing the method this way is because deriving the vector representation is time consuming and it shouldn't be done in the ``extractXY`` function."
   ]
  },
  {
   "cell_type": "code",
   "execution_count": 30,
   "metadata": {},
   "outputs": [
    {
     "name": "stdout",
     "output_type": "stream",
     "text": [
      "Calculating representation ... done!\n"
     ]
    }
   ],
   "source": [
    "print(\"Calculating representation ... \", end=\"\")\n",
    "calculate_vector_repr(training)\n",
    "calculate_vector_repr(dev)\n",
    "print(\"done!\")"
   ]
  },
  {
   "cell_type": "markdown",
   "metadata": {},
   "source": [
    "### Use only word embeddings (not reported in the paper)"
   ]
  },
  {
   "cell_type": "code",
   "execution_count": 31,
   "metadata": {},
   "outputs": [
    {
     "name": "stdout",
     "output_type": "stream",
     "text": [
      "Calculating features ...done!\n"
     ]
    }
   ],
   "source": [
    "print(\"Calculating features ...\", end=\"\")\n",
    "X_train, y_train = extract_XY(training)\n",
    "X_dev, y_dev = extract_XY(dev)\n",
    "print(\"done!\")"
   ]
  },
  {
   "cell_type": "markdown",
   "metadata": {},
   "source": [
    "#### SVM, c=2, gamma=0.5"
   ]
  },
  {
   "cell_type": "code",
   "execution_count": 32,
   "metadata": {},
   "outputs": [
    {
     "name": "stdout",
     "output_type": "stream",
     "text": [
      "Learning ...done!\n",
      "SVM with c=2 and gamma=0.5\n",
      "accuracy= 0.5784738420526491\n",
      "weighted f-score 0.574230558765779\n",
      "Confusion matrix\n",
      " [[587 324 146]\n",
      " [304 863  66]\n",
      " [283 142 286]]\n"
     ]
    }
   ],
   "source": [
    "c = 2\n",
    "gamma = 0.5\n",
    "model = trainSVM(X_train, y_train, c, gamma)\n",
    "predicted = model.predict(X_dev)\n",
    "print(f\"SVM with c={c} and gamma={gamma}\")\n",
    "print(\"accuracy=\", np.mean(predicted == y_dev))\n",
    "print(\"weighted f-score\", f1_score(y_dev, predicted, average='weighted'))\n",
    "print(\"Confusion matrix\\n\", confusion_matrix(y_dev, predicted))"
   ]
  },
  {
   "cell_type": "markdown",
   "metadata": {},
   "source": [
    "#### Random Forest, n_estimators=180"
   ]
  },
  {
   "cell_type": "code",
   "execution_count": 33,
   "metadata": {},
   "outputs": [
    {
     "name": "stdout",
     "output_type": "stream",
     "text": [
      "Learning ...done!\n",
      "Random forest with n_estimators=180\n",
      "accuracy= 0.5404865044985006\n",
      "weighted f-score 0.5132813625882178\n",
      "Confusion matrix\n",
      " [[581 425  51]\n",
      " [282 917  34]\n",
      " [408 179 124]]\n"
     ]
    }
   ],
   "source": [
    "n_estimators = 180\n",
    "model = trainRandomForest(X_train, y_train, n_estimators)\n",
    "predicted = model.predict(X_dev)\n",
    "print(f\"Random forest with n_estimators={n_estimators}\")\n",
    "print(\"accuracy=\", np.mean(predicted == y_dev))\n",
    "print(\"weighted f-score\", f1_score(y_dev, predicted, average='weighted'))\n",
    "print(\"Confusion matrix\\n\", confusion_matrix(y_dev, predicted))"
   ]
  },
  {
   "cell_type": "markdown",
   "metadata": {},
   "source": [
    "### Use word embeddings and emoji scores"
   ]
  },
  {
   "cell_type": "code",
   "execution_count": 34,
   "metadata": {},
   "outputs": [
    {
     "name": "stdout",
     "output_type": "stream",
     "text": [
      "Calculating features ...done!\n"
     ]
    }
   ],
   "source": [
    "print(\"Calculating features ...\", end=\"\")\n",
    "X_train, y_train = extract_XY(training, with_emojis = True)\n",
    "X_dev, y_dev = extract_XY(dev, with_emojis = True)\n",
    "print(\"done!\")"
   ]
  },
  {
   "cell_type": "markdown",
   "metadata": {},
   "source": [
    "#### SVM, c=2, gamma=0.5"
   ]
  },
  {
   "cell_type": "code",
   "execution_count": 35,
   "metadata": {},
   "outputs": [
    {
     "name": "stdout",
     "output_type": "stream",
     "text": [
      "Learning ...done!\n",
      "SVM with c=2 and gamma=0.5\n",
      "accuracy= 0.5768077307564146\n",
      "weighted f-score 0.5723505370388843\n",
      "Confusion matrix\n",
      " [[585 328 144]\n",
      " [302 863  68]\n",
      " [286 142 283]]\n"
     ]
    }
   ],
   "source": [
    "c = 2\n",
    "gamma = 0.5\n",
    "model = trainSVM(X_train, y_train, c, gamma)\n",
    "predicted = model.predict(X_dev)\n",
    "print(f\"SVM with c={c} and gamma={gamma}\")\n",
    "print(\"accuracy=\", np.mean(predicted == y_dev))\n",
    "print(\"weighted f-score\", f1_score(y_dev, predicted, average='weighted'))\n",
    "print(\"Confusion matrix\\n\", confusion_matrix(y_dev, predicted))"
   ]
  },
  {
   "cell_type": "markdown",
   "metadata": {},
   "source": [
    "#### Random Forest, n_estimators=180"
   ]
  },
  {
   "cell_type": "code",
   "execution_count": 36,
   "metadata": {},
   "outputs": [
    {
     "name": "stdout",
     "output_type": "stream",
     "text": [
      "Learning ...done!\n",
      "Random forest with n_estimators=180\n",
      "accuracy= 0.5341552815728091\n",
      "weighted f-score 0.5079277755736931\n",
      "Confusion matrix\n",
      " [[560 434  63]\n",
      " [279 916  38]\n",
      " [400 184 127]]\n"
     ]
    }
   ],
   "source": [
    "n_estimators = 180\n",
    "model = trainRandomForest(X_train, y_train, n_estimators)\n",
    "predicted = model.predict(X_dev)\n",
    "print(f\"Random forest with n_estimators={n_estimators}\")\n",
    "print(\"accuracy=\", np.mean(predicted == y_dev))\n",
    "print(\"weighted f-score\", f1_score(y_dev, predicted, average='weighted'))\n",
    "print(\"Confusion matrix\\n\", confusion_matrix(y_dev, predicted))"
   ]
  },
  {
   "cell_type": "markdown",
   "metadata": {},
   "source": [
    "### Use word embeddings, emoji scores and sentiment scores"
   ]
  },
  {
   "cell_type": "code",
   "execution_count": 37,
   "metadata": {},
   "outputs": [
    {
     "name": "stdout",
     "output_type": "stream",
     "text": [
      "Calculating features ...done!\n"
     ]
    }
   ],
   "source": [
    "print(\"Calculating features ...\", end=\"\")\n",
    "X_train, y_train = extract_XY(training, with_emojis = True, with_sentiment = True)\n",
    "X_dev, y_dev = extract_XY(dev, with_emojis = True, with_sentiment = True)\n",
    "print(\"done!\")"
   ]
  },
  {
   "cell_type": "markdown",
   "metadata": {},
   "source": [
    "#### SVM, c=5, gamma=0.5 *(the best performing setting on unseen Twitter testing data)*"
   ]
  },
  {
   "cell_type": "code",
   "execution_count": 38,
   "metadata": {},
   "outputs": [
    {
     "name": "stdout",
     "output_type": "stream",
     "text": [
      "Learning ...done!\n",
      "SVM with c=5 and gamma=0.5\n",
      "accuracy= 0.5591469510163279\n",
      "weighted f-score 0.5545043639597993\n",
      "Confusion matrix\n",
      " [[533 352 172]\n",
      " [302 859  72]\n",
      " [272 153 286]]\n"
     ]
    }
   ],
   "source": [
    "c = 5\n",
    "gamma = 0.5\n",
    "model = trainSVM(X_train, y_train, c, gamma)\n",
    "predicted = model.predict(X_dev)\n",
    "print(f\"SVM with c={c} and gamma={gamma}\")\n",
    "print(\"accuracy=\", np.mean(predicted == y_dev))\n",
    "print(\"weighted f-score\", f1_score(y_dev, predicted, average='weighted'))\n",
    "print(\"Confusion matrix\\n\", confusion_matrix(y_dev, predicted))"
   ]
  },
  {
   "cell_type": "markdown",
   "metadata": {},
   "source": [
    "#### Random Forest, n_estimators=160 *(the best performing setting on unseen Facebook testing data)*"
   ]
  },
  {
   "cell_type": "code",
   "execution_count": 39,
   "metadata": {},
   "outputs": [
    {
     "name": "stdout",
     "output_type": "stream",
     "text": [
      "Learning ...done!\n",
      "Random forest with n_estimators=160\n",
      "accuracy= 0.5441519493502166\n",
      "weighted f-score 0.5214229496782077\n",
      "Confusion matrix\n",
      " [[568 431  58]\n",
      " [283 919  31]\n",
      " [405 160 146]]\n"
     ]
    }
   ],
   "source": [
    "n_estimators = 160\n",
    "model = trainRandomForest(X_train, y_train, n_estimators)\n",
    "predicted = model.predict(X_dev)\n",
    "print(f\"Random forest with n_estimators={n_estimators}\")\n",
    "print(\"accuracy=\", np.mean(predicted == y_dev))\n",
    "print(\"weighted f-score\", f1_score(y_dev, predicted, average='weighted'))\n",
    "print(\"Confusion matrix\\n\", confusion_matrix(y_dev, predicted))"
   ]
  }
 ],
 "metadata": {
  "kernelspec": {
   "display_name": "Python 3",
   "language": "python",
   "name": "python3"
  },
  "language_info": {
   "codemirror_mode": {
    "name": "ipython",
    "version": 3
   },
   "file_extension": ".py",
   "mimetype": "text/x-python",
   "name": "python",
   "nbconvert_exporter": "python",
   "pygments_lexer": "ipython3",
   "version": "3.6.6"
  }
 },
 "nbformat": 4,
 "nbformat_minor": 2
}
